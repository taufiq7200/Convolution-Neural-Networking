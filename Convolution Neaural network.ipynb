{
 "cells": [
  {
   "cell_type": "code",
   "execution_count": 2,
   "metadata": {},
   "outputs": [],
   "source": [
    "import numpy as np\n",
    "import pandas as pd\n",
    "%matplotlib inline \n",
    "import matplotlib as api \n",
    "import matplotlib.pyplot as plt"
   ]
  },
  {
   "cell_type": "code",
   "execution_count": 3,
   "metadata": {},
   "outputs": [],
   "source": [
    "import tensorflow as tf\n",
    "from tensorflow import keras"
   ]
  },
  {
   "cell_type": "code",
   "execution_count": 4,
   "metadata": {},
   "outputs": [],
   "source": [
    "fashion_mnist = keras.datasets.fashion_mnist\n",
    "(x_train_full , y_train_full) , (x_test , y_test) = fashion_mnist.load_data()"
   ]
  },
  {
   "cell_type": "code",
   "execution_count": 5,
   "metadata": {},
   "outputs": [],
   "source": [
    "class_names = ['T-shirt/top' , 'Trousar' , 'Pullover' , 'Dress' , 'Coat',\n",
    "               'Sandal' , 'Shirt' ,'Sneaker' , 'Bag' , 'Ankle Boot']"
   ]
  },
  {
   "cell_type": "markdown",
   "metadata": {},
   "source": [
    "# Data Reshape"
   ]
  },
  {
   "cell_type": "code",
   "execution_count": 6,
   "metadata": {},
   "outputs": [],
   "source": [
    "x_train_full = x_train_full.reshape((60000 , 28 ,28 ,1))\n",
    "x_test = x_test = x_test.reshape((10000 , 28 , 28 , 1))"
   ]
  },
  {
   "cell_type": "markdown",
   "metadata": {},
   "source": [
    "# Data Normalization"
   ]
  },
  {
   "cell_type": "code",
   "execution_count": 7,
   "metadata": {},
   "outputs": [],
   "source": [
    "x_train_n = x_train_full/255.\n",
    "x_test_n = x_test /255."
   ]
  },
  {
   "cell_type": "markdown",
   "metadata": {},
   "source": []
  },
  {
   "cell_type": "code",
   "execution_count": 8,
   "metadata": {},
   "outputs": [],
   "source": [
    "x_valid , x_train = x_train_n[:5000], x_train_n[5000:]\n",
    "y_valid , y_train = y_train_full[:5000], y_train_full[5000:]\n",
    "x_test = x_test_n"
   ]
  },
  {
   "cell_type": "markdown",
   "metadata": {},
   "source": [
    "# Creat the model Architecture"
   ]
  },
  {
   "cell_type": "code",
   "execution_count": 9,
   "metadata": {},
   "outputs": [],
   "source": [
    "np.random.seed(42)\n",
    "tf.random.set_seed(42)"
   ]
  },
  {
   "cell_type": "code",
   "execution_count": 10,
   "metadata": {},
   "outputs": [],
   "source": [
    "model = keras.models.Sequential()\n",
    "model.add(keras.layers.Conv2D(filters= 32 , kernel_size =(3,3) , strides = 1 , padding ='valid',activation='relu', input_shape = (28,28,1)))\n",
    "model.add(keras.layers.MaxPooling2D((2,2)))\n",
    "\n",
    "model.add(keras.layers.Flatten())\n",
    "model.add(keras.layers.Dense(300 , activation ='relu'))\n",
    "model.add(keras.layers.Dense(100 , activation = 'relu'))\n",
    "model.add(keras.layers.Dense(10 , activation = 'softmax'))"
   ]
  },
  {
   "cell_type": "code",
   "execution_count": 11,
   "metadata": {},
   "outputs": [
    {
     "name": "stdout",
     "output_type": "stream",
     "text": [
      "Model: \"sequential\"\n",
      "_________________________________________________________________\n",
      "Layer (type)                 Output Shape              Param #   \n",
      "=================================================================\n",
      "conv2d (Conv2D)              (None, 26, 26, 32)        320       \n",
      "_________________________________________________________________\n",
      "max_pooling2d (MaxPooling2D) (None, 13, 13, 32)        0         \n",
      "_________________________________________________________________\n",
      "flatten (Flatten)            (None, 5408)              0         \n",
      "_________________________________________________________________\n",
      "dense (Dense)                (None, 300)               1622700   \n",
      "_________________________________________________________________\n",
      "dense_1 (Dense)              (None, 100)               30100     \n",
      "_________________________________________________________________\n",
      "dense_2 (Dense)              (None, 10)                1010      \n",
      "=================================================================\n",
      "Total params: 1,654,130\n",
      "Trainable params: 1,654,130\n",
      "Non-trainable params: 0\n",
      "_________________________________________________________________\n"
     ]
    }
   ],
   "source": [
    "model.summary()"
   ]
  },
  {
   "cell_type": "code",
   "execution_count": 12,
   "metadata": {},
   "outputs": [],
   "source": [
    "model.compile(loss = 'sparse_categorical_crossentropy' , \n",
    "             optimizer = 'sgd',\n",
    "             metrics =['accuracy'])"
   ]
  },
  {
   "cell_type": "code",
   "execution_count": 13,
   "metadata": {},
   "outputs": [
    {
     "name": "stdout",
     "output_type": "stream",
     "text": [
      "Train on 55000 samples, validate on 5000 samples\n",
      "Epoch 1/10\n",
      "55000/55000 [==============================] - 24s 428us/sample - loss: 0.8754 - accuracy: 0.7047 - val_loss: 0.5981 - val_accuracy: 0.7790\n",
      "Epoch 2/10\n",
      "55000/55000 [==============================] - 23s 425us/sample - loss: 0.5385 - accuracy: 0.8050 - val_loss: 0.5430 - val_accuracy: 0.8032\n",
      "Epoch 3/10\n",
      "55000/55000 [==============================] - 22s 407us/sample - loss: 0.4801 - accuracy: 0.8276 - val_loss: 0.5660 - val_accuracy: 0.8120\n",
      "Epoch 4/10\n",
      "55000/55000 [==============================] - 22s 407us/sample - loss: 0.4435 - accuracy: 0.8409 - val_loss: 0.4583 - val_accuracy: 0.8386\n",
      "Epoch 5/10\n",
      "55000/55000 [==============================] - 23s 421us/sample - loss: 0.4164 - accuracy: 0.8513 - val_loss: 0.4419 - val_accuracy: 0.8360\n",
      "Epoch 6/10\n",
      "55000/55000 [==============================] - 23s 416us/sample - loss: 0.3976 - accuracy: 0.8576 - val_loss: 0.4223 - val_accuracy: 0.8434\n",
      "Epoch 7/10\n",
      "55000/55000 [==============================] - 24s 430us/sample - loss: 0.3794 - accuracy: 0.8653 - val_loss: 0.3992 - val_accuracy: 0.8576\n",
      "Epoch 8/10\n",
      "55000/55000 [==============================] - 22s 409us/sample - loss: 0.3631 - accuracy: 0.8693 - val_loss: 0.3607 - val_accuracy: 0.8730\n",
      "Epoch 9/10\n",
      "55000/55000 [==============================] - 23s 409us/sample - loss: 0.3497 - accuracy: 0.8729 - val_loss: 0.3475 - val_accuracy: 0.8804\n",
      "Epoch 10/10\n",
      "55000/55000 [==============================] - 24s 435us/sample - loss: 0.3377 - accuracy: 0.8778 - val_loss: 0.3381 - val_accuracy: 0.8846\n"
     ]
    }
   ],
   "source": [
    "model_history = model.fit(x_train , y_train , epochs =10 , batch_size = 64,\n",
    "                         validation_data = (x_valid , y_valid))"
   ]
  },
  {
   "cell_type": "code",
   "execution_count": 14,
   "metadata": {},
   "outputs": [
    {
     "data": {
      "image/png": "[encoded data removed]",
      "text/plain": [
       "<Figure size 576x360 with 1 Axes>"
      ]
     },
     "metadata": {
      "needs_background": "light"
     },
     "output_type": "display_data"
    }
   ],
   "source": [
    "pd.DataFrame(model_history.history).plot(figsize = (8 , 5))\n",
    "plt.grid(True)\n",
    "plt.gca().set_ylim(0,1)\n",
    "plt.show()"
   ]
  },
  {
   "cell_type": "code",
   "execution_count": 15,
   "metadata": {},
   "outputs": [
    {
     "name": "stdout",
     "output_type": "stream",
     "text": [
      "10000/10000 [==============================] - 2s 166us/sample - loss: 0.3644 - accuracy: 0.8699\n"
     ]
    }
   ],
   "source": [
    "ev = model.evaluate (x_test_n,y_test)"
   ]
  },
  {
   "cell_type": "code",
   "execution_count": 16,
   "metadata": {},
   "outputs": [
    {
     "data": {
      "text/plain": [
       "[0.3644242218732834, 0.8699]"
      ]
     },
     "execution_count": 16,
     "metadata": {},
     "output_type": "execute_result"
    }
   ],
   "source": [
    "ev"
   ]
  },
  {
   "cell_type": "code",
   "execution_count": 17,
   "metadata": {},
   "outputs": [],
   "source": [
    "x_new = x_test [:3]"
   ]
  },
  {
   "cell_type": "code",
   "execution_count": 18,
   "metadata": {},
   "outputs": [],
   "source": [
    "y_pred = model.predict_classes(x_new)"
   ]
  },
  {
   "cell_type": "code",
   "execution_count": 19,
   "metadata": {},
   "outputs": [
    {
     "name": "stdout",
     "output_type": "stream",
     "text": [
      "AxesImage(54,36;334.8x217.44)\n"
     ]
    },
    {
     "data": {
      "image/png": "[encoded data removed]",
      "text/plain": [
       "<Figure size 432x288 with 1 Axes>"
      ]
     },
     "metadata": {
      "needs_background": "light"
     },
     "output_type": "display_data"
    }
   ],
   "source": [
    "print(plt.imshow(x_test[0].reshape((28,28))))"
   ]
  },
  {
   "cell_type": "code",
   "execution_count": 20,
   "metadata": {},
   "outputs": [
    {
     "data": {
      "text/plain": [
       "<function tensorflow.python.keras.backend.clear_session()>"
      ]
     },
     "execution_count": 20,
     "metadata": {},
     "output_type": "execute_result"
    }
   ],
   "source": [
    "keras.backend.clear_session"
   ]
  },
  {
   "cell_type": "code",
   "execution_count": 21,
   "metadata": {},
   "outputs": [],
   "source": [
    "del model"
   ]
  },
  {
   "cell_type": "markdown",
   "metadata": {},
   "source": [
    "# Pooling vs No Pooling\n",
    "\n",
    "### In this CNN model we remove the Pooling Layers to check excuation time."
   ]
  },
  {
   "cell_type": "code",
   "execution_count": 24,
   "metadata": {},
   "outputs": [],
   "source": [
    "model_1 = keras.models.Sequential()\n",
    "model_1.add(keras.layers.Conv2D(filters = 32 , kernel_size =(3,3) , strides=1 , padding='valid' , activation='relu' ,input_shape=(28,28,1)))\n",
    "model_1.add(keras.layers.MaxPooling2D((2,2)))\n",
    "model_1.add(keras.layers.Flatten())\n",
    "model_1.add(keras.layers.Dense(300 , activation=\"relu\"))\n",
    "model_1.add(keras.layers.Dense(100 , activation=\"relu\"))\n",
    "model_1.add(keras.layers.Dense(10 ,activation = \"softmax\"))\n",
    "\n",
    "model_2 = keras.models.Sequential()\n",
    "model_2.add(keras.layers.Conv2D(filters = 32 , kernel_size =(3,3) , strides=1 , padding='valid' , activation='relu' ,input_shape=(28,28,1)))\n",
    "model_2.add(keras.layers.MaxPooling2D((2,2)))\n",
    "model_2.add(keras.layers.Flatten())\n",
    "model_2.add(keras.layers.Dense(300 , activation=\"relu\"))\n",
    "model_2.add(keras.layers.Dense(100 , activation=\"relu\"))\n",
    "model_2.add(keras.layers.Dense(10 ,activation = \"softmax\"))\n"
   ]
  },
  {
   "cell_type": "code",
   "execution_count": 26,
   "metadata": {},
   "outputs": [
    {
     "name": "stdout",
     "output_type": "stream",
     "text": [
      "Model: \"sequential_3\"\n",
      "_________________________________________________________________\n",
      "Layer (type)                 Output Shape              Param #   \n",
      "=================================================================\n",
      "conv2d_2 (Conv2D)            (None, 26, 26, 32)        320       \n",
      "_________________________________________________________________\n",
      "max_pooling2d_2 (MaxPooling2 (None, 13, 13, 32)        0         \n",
      "_________________________________________________________________\n",
      "flatten_2 (Flatten)          (None, 5408)              0         \n",
      "_________________________________________________________________\n",
      "dense_6 (Dense)              (None, 300)               1622700   \n",
      "_________________________________________________________________\n",
      "dense_7 (Dense)              (None, 100)               30100     \n",
      "_________________________________________________________________\n",
      "dense_8 (Dense)              (None, 10)                1010      \n",
      "=================================================================\n",
      "Total params: 1,654,130\n",
      "Trainable params: 1,654,130\n",
      "Non-trainable params: 0\n",
      "_________________________________________________________________\n"
     ]
    }
   ],
   "source": [
    "model_1.summary()"
   ]
  },
  {
   "cell_type": "code",
   "execution_count": 27,
   "metadata": {},
   "outputs": [
    {
     "name": "stdout",
     "output_type": "stream",
     "text": [
      "Model: \"sequential_4\"\n",
      "_________________________________________________________________\n",
      "Layer (type)                 Output Shape              Param #   \n",
      "=================================================================\n",
      "conv2d_3 (Conv2D)            (None, 26, 26, 32)        320       \n",
      "_________________________________________________________________\n",
      "max_pooling2d_3 (MaxPooling2 (None, 13, 13, 32)        0         \n",
      "_________________________________________________________________\n",
      "flatten_3 (Flatten)          (None, 5408)              0         \n",
      "_________________________________________________________________\n",
      "dense_9 (Dense)              (None, 300)               1622700   \n",
      "_________________________________________________________________\n",
      "dense_10 (Dense)             (None, 100)               30100     \n",
      "_________________________________________________________________\n",
      "dense_11 (Dense)             (None, 10)                1010      \n",
      "=================================================================\n",
      "Total params: 1,654,130\n",
      "Trainable params: 1,654,130\n",
      "Non-trainable params: 0\n",
      "_________________________________________________________________\n"
     ]
    }
   ],
   "source": [
    "model_2.summary()"
   ]
  },
  {
   "cell_type": "code",
   "execution_count": 29,
   "metadata": {},
   "outputs": [],
   "source": [
    "model_1.compile(loss = 'sparse_categorical_crossentropy',\n",
    "               optimizer = 'sgd',\n",
    "               metrics = ['accuracy'])\n",
    "\n",
    "model_2.compile(loss = 'sparse_categorical_crossentropy',\n",
    "               optimizer = 'sgd',\n",
    "               metrics = ['accuracy'])"
   ]
  },
  {
   "cell_type": "code",
   "execution_count": 30,
   "metadata": {},
   "outputs": [
    {
     "name": "stdout",
     "output_type": "stream",
     "text": [
      "Train on 55000 samples, validate on 5000 samples\n",
      "Epoch 1/3\n",
      "55000/55000 [==============================] - 23s 413us/sample - loss: 0.8294 - accuracy: 0.7188 - val_loss: 0.5709 - val_accuracy: 0.7858\n",
      "Epoch 2/3\n",
      "55000/55000 [==============================] - 22s 405us/sample - loss: 0.5284 - accuracy: 0.8072 - val_loss: 0.5205 - val_accuracy: 0.8114\n",
      "Epoch 3/3\n",
      "55000/55000 [==============================] - 23s 422us/sample - loss: 0.4715 - accuracy: 0.8301 - val_loss: 0.5121 - val_accuracy: 0.8248\n"
     ]
    }
   ],
   "source": [
    "model_history_1 = model_1.fit(x_train , y_train , epochs=3 , batch_size=64,\n",
    "                             validation_data=(x_valid , y_valid))"
   ]
  },
  {
   "cell_type": "code",
   "execution_count": 31,
   "metadata": {},
   "outputs": [
    {
     "name": "stdout",
     "output_type": "stream",
     "text": [
      "Train on 55000 samples, validate on 5000 samples\n",
      "Epoch 1/3\n",
      "55000/55000 [==============================] - 22s 400us/sample - loss: 0.4363 - accuracy: 0.8437 - val_loss: 0.4225 - val_accuracy: 0.8536\n",
      "Epoch 2/3\n",
      "55000/55000 [==============================] - 23s 425us/sample - loss: 0.4118 - accuracy: 0.8523 - val_loss: 0.4392 - val_accuracy: 0.8370\n",
      "Epoch 3/3\n",
      "55000/55000 [==============================] - 22s 407us/sample - loss: 0.3908 - accuracy: 0.8595 - val_loss: 0.4369 - val_accuracy: 0.8474\n"
     ]
    }
   ],
   "source": [
    "model_history_1 = model_1.fit(x_train , y_train , epochs=3 , batch_size=64,\n",
    "                             validation_data=(x_valid , y_valid))"
   ]
  },
  {
   "cell_type": "code",
   "execution_count": null,
   "metadata": {},
   "outputs": [],
   "source": []
  }
 ],
 "metadata": {
  "kernelspec": {
   "display_name": "Python 3",
   "language": "python",
   "name": "python3"
  },
  "language_info": {
   "codemirror_mode": {
    "name": "ipython",
    "version": 3
   },
   "file_extension": ".py",
   "mimetype": "text/x-python",
   "name": "python",
   "nbconvert_exporter": "python",
   "pygments_lexer": "ipython3",
   "version": "3.7.9"
  }
 },
 "nbformat": 4,
 "nbformat_minor": 4
}
